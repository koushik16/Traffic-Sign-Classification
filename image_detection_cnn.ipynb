{
 "cells": [
  {
   "cell_type": "code",
   "execution_count": 1,
   "id": "95954fd2",
   "metadata": {},
   "outputs": [],
   "source": [
    "from keras.models import load_model\n",
    "model = load_model('my_model.h5')"
   ]
  },
  {
   "cell_type": "code",
   "execution_count": 4,
   "id": "ff0d1f37",
   "metadata": {
    "scrolled": false
   },
   "outputs": [
    {
     "name": "stdout",
     "output_type": "stream",
     "text": [
      "WARNING:tensorflow:From <ipython-input-4-fb141ae78cb1>:26: Sequential.predict_classes (from tensorflow.python.keras.engine.sequential) is deprecated and will be removed after 2021-01-01.\n",
      "Instructions for updating:\n",
      "Please use instead:* `np.argmax(model.predict(x), axis=-1)`,   if your model does multi-class classification   (e.g. if it uses a `softmax` last-layer activation).* `(model.predict(x) > 0.5).astype(\"int32\")`,   if your model does binary classification   (e.g. if it uses a `sigmoid` last-layer activation).\n",
      "0.998725\n",
      "2\n"
     ]
    }
   ],
   "source": [
    "import cv2\n",
    "import numpy as np\n",
    "import gtts\n",
    "from playsound import playsound\n",
    "import os\n",
    "\n",
    "def clas(cno):\n",
    "    if cno==0:\n",
    "        return \"restricted to 20km/hr\"\n",
    "    elif cno==1:\n",
    "        return \"restricted to 30km/hr\"\n",
    "    else:\n",
    "        return \"restricted to 50km/hr\"\n",
    "\n",
    "\n",
    "img = cv2.imread(\"sign-50.png\", cv2.IMREAD_COLOR)\n",
    "cv2.imshow(\"sign\",img)\n",
    "\n",
    "#img = np.asarray(orimg)\n",
    "\n",
    "\n",
    "#img = preprocessing(img)\n",
    "img = cv2.resize(img,(30,30))\n",
    "img= np.expand_dims(img, axis=0)\n",
    "img = np.array(img)\n",
    "pred = model.predict_classes([img])[0]    \n",
    "#sign = classes[pred+1]\n",
    "predictions = model.predict(img) \n",
    "val = np.amax(predictions)\n",
    "print(val)\n",
    "print(pred)\n",
    "#if tru<val:\n",
    "#    print(val)\n",
    "res = clas(pred)\n",
    "tts = gtts.gTTS(res)\n",
    "tts.save(\"hi.mp3\")\n",
    "playsound(\"hi.mp3\")\n",
    "os.remove(\"hi.mp3\")\n",
    "\n",
    "\n",
    "cv2.waitKey(0)\n",
    "cv2.destroyAllWindows()\n",
    "\n",
    "\n"
   ]
  },
  {
   "cell_type": "code",
   "execution_count": null,
   "id": "9db19cb9",
   "metadata": {},
   "outputs": [],
   "source": []
  }
 ],
 "metadata": {
  "kernelspec": {
   "display_name": "Python 3",
   "language": "python",
   "name": "python3"
  },
  "language_info": {
   "codemirror_mode": {
    "name": "ipython",
    "version": 3
   },
   "file_extension": ".py",
   "mimetype": "text/x-python",
   "name": "python",
   "nbconvert_exporter": "python",
   "pygments_lexer": "ipython3",
   "version": "3.8.8"
  }
 },
 "nbformat": 4,
 "nbformat_minor": 5
}
