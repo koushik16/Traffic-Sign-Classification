{
 "cells": [
  {
   "cell_type": "code",
   "execution_count": 1,
   "id": "035f97b4",
   "metadata": {},
   "outputs": [],
   "source": [
    "import numpy as np \n",
    "import pandas as pd \n",
    "import matplotlib.pyplot as plt\n",
    "import tensorflow as tf \n",
    "from PIL import Image\n",
    "import os\n",
    "from sklearn.model_selection import train_test_split\n",
    "from keras.utils import to_categorical\n",
    "from keras.models import Sequential\n",
    "from keras.layers import Conv2D, MaxPool2D, Dense, Flatten, Dropout\n",
    "\n",
    "data = []\n",
    "labels = []\n",
    "classes = 43\n",
    "cur_path = os.getcwd()\n",
    "\n"
   ]
  },
  {
   "cell_type": "code",
   "execution_count": 8,
   "id": "cdb2cdd9",
   "metadata": {},
   "outputs": [],
   "source": [
    "#Retrieving the images and their labels \n",
    "for i in range(classes):\n",
    "    path = os.path.join(cur_path,'train',str(i))\n",
    "    images = os.listdir(path)\n",
    "\n",
    "    for a in images:\n",
    "        try:\n",
    "            image = Image.open(path + '\\\\'+ a)\n",
    "            image = image.resize((30,30))\n",
    "            image = np.array(image)\n",
    "            #sim = Image.fromarray(image)\n",
    "            data.append(image)\n",
    "            labels.append(i)\n",
    "        except:\n",
    "            print(\"Error loading image\")\n",
    "\n"
   ]
  },
  {
   "cell_type": "code",
   "execution_count": 9,
   "id": "65c49e01",
   "metadata": {},
   "outputs": [],
   "source": [
    "#Converting lists into numpy arrays\n",
    "data = np.array(data)\n",
    "labels = np.array(labels)\n",
    "\n"
   ]
  },
  {
   "cell_type": "code",
   "execution_count": 10,
   "id": "1663a736",
   "metadata": {},
   "outputs": [
    {
     "name": "stdout",
     "output_type": "stream",
     "text": [
      "(39209, 30, 30, 3) (39209,)\n",
      "(31367, 30, 30, 3) (7842, 30, 30, 3) (31367,) (7842,)\n"
     ]
    }
   ],
   "source": [
    "print(data.shape, labels.shape)\n",
    "X_train, X_test, y_train, y_test = train_test_split(data, labels, test_size=0.2, random_state=42)\n",
    "\n",
    "print(X_train.shape, X_test.shape, y_train.shape, y_test.shape)\n",
    "\n",
    "y_train = to_categorical(y_train, 43)\n",
    "y_test = to_categorical(y_test, 43)\n",
    "\n"
   ]
  },
  {
   "cell_type": "code",
   "execution_count": 11,
   "id": "bf3d6476",
   "metadata": {},
   "outputs": [],
   "source": [
    "#Building the model\n",
    "model = Sequential()\n",
    "model.add(Conv2D(filters=32, kernel_size=(5,5), activation='relu', input_shape=X_train.shape[1:]))\n",
    "model.add(Conv2D(filters=32, kernel_size=(5,5), activation='relu'))\n",
    "model.add(MaxPool2D(pool_size=(2, 2)))\n",
    "model.add(Dropout(rate=0.25))\n",
    "model.add(Conv2D(filters=64, kernel_size=(3, 3), activation='relu'))\n",
    "model.add(Conv2D(filters=64, kernel_size=(3, 3), activation='relu'))\n",
    "model.add(MaxPool2D(pool_size=(2, 2)))\n",
    "model.add(Dropout(rate=0.25))\n",
    "model.add(Flatten())\n",
    "model.add(Dense(256, activation='relu'))\n",
    "model.add(Dropout(rate=0.5))\n",
    "model.add(Dense(43, activation='softmax'))\n",
    "\n",
    "#Compilation of the model\n",
    "model.compile(loss='categorical_crossentropy', optimizer='adam', metrics=['accuracy'])\n",
    "\n"
   ]
  },
  {
   "cell_type": "code",
   "execution_count": 12,
   "id": "f68b9416",
   "metadata": {},
   "outputs": [
    {
     "name": "stdout",
     "output_type": "stream",
     "text": [
      "Epoch 1/15\n",
      "981/981 [==============================] - 36s 37ms/step - loss: 1.9443 - accuracy: 0.5004 - val_loss: 0.5552 - val_accuracy: 0.8579\n",
      "Epoch 2/15\n",
      "981/981 [==============================] - 36s 37ms/step - loss: 0.7741 - accuracy: 0.7702 - val_loss: 0.3399 - val_accuracy: 0.9044\n",
      "Epoch 3/15\n",
      "981/981 [==============================] - 36s 37ms/step - loss: 0.5338 - accuracy: 0.8388 - val_loss: 0.1958 - val_accuracy: 0.9475\n",
      "Epoch 4/15\n",
      "981/981 [==============================] - 36s 37ms/step - loss: 0.4092 - accuracy: 0.8795 - val_loss: 0.1559 - val_accuracy: 0.9563\n",
      "Epoch 5/15\n",
      "981/981 [==============================] - 37s 37ms/step - loss: 0.3333 - accuracy: 0.9042 - val_loss: 0.1633 - val_accuracy: 0.9513\n",
      "Epoch 6/15\n",
      "981/981 [==============================] - 36s 37ms/step - loss: 0.3218 - accuracy: 0.9060 - val_loss: 0.1567 - val_accuracy: 0.9540\n",
      "Epoch 7/15\n",
      "981/981 [==============================] - 36s 37ms/step - loss: 0.2946 - accuracy: 0.9155 - val_loss: 0.1089 - val_accuracy: 0.9665\n",
      "Epoch 8/15\n",
      "981/981 [==============================] - 36s 37ms/step - loss: 0.2653 - accuracy: 0.9256 - val_loss: 0.0702 - val_accuracy: 0.9814\n",
      "Epoch 9/15\n",
      "981/981 [==============================] - 35s 36ms/step - loss: 0.2570 - accuracy: 0.9287 - val_loss: 0.0636 - val_accuracy: 0.9819\n",
      "Epoch 10/15\n",
      "981/981 [==============================] - 36s 36ms/step - loss: 0.2587 - accuracy: 0.9279 - val_loss: 0.0933 - val_accuracy: 0.9717\n",
      "Epoch 11/15\n",
      "981/981 [==============================] - 35s 36ms/step - loss: 0.2627 - accuracy: 0.9288 - val_loss: 0.0681 - val_accuracy: 0.9805\n",
      "Epoch 12/15\n",
      "981/981 [==============================] - 35s 36ms/step - loss: 0.2486 - accuracy: 0.9339 - val_loss: 0.0517 - val_accuracy: 0.9851\n",
      "Epoch 13/15\n",
      "981/981 [==============================] - 35s 36ms/step - loss: 0.2263 - accuracy: 0.9391 - val_loss: 0.1707 - val_accuracy: 0.9541\n",
      "Epoch 14/15\n",
      "981/981 [==============================] - 36s 36ms/step - loss: 0.2614 - accuracy: 0.9289 - val_loss: 0.0559 - val_accuracy: 0.9834\n",
      "Epoch 15/15\n",
      "981/981 [==============================] - 36s 36ms/step - loss: 0.2244 - accuracy: 0.9399 - val_loss: 0.0621 - val_accuracy: 0.9829\n"
     ]
    }
   ],
   "source": [
    "epochs = 15\n",
    "history = model.fit(X_train, y_train, batch_size=32, epochs=epochs, validation_data=(X_test, y_test))\n",
    "model.save(\"my_model.h5\")\n"
   ]
  },
  {
   "cell_type": "code",
   "execution_count": 13,
   "id": "b3a9b8f9",
   "metadata": {},
   "outputs": [
    {
     "data": {
      "image/png": "[encoded data removed]",
      "text/plain": [
       "<Figure size 432x288 with 1 Axes>"
      ]
     },
     "metadata": {
      "needs_background": "light"
     },
     "output_type": "display_data"
    },
    {
     "data": {
      "image/png": "[encoded data removed]",
      "text/plain": [
       "<Figure size 432x288 with 1 Axes>"
      ]
     },
     "metadata": {
      "needs_background": "light"
     },
     "output_type": "display_data"
    }
   ],
   "source": [
    "\n",
    "plt.figure(0)\n",
    "plt.plot(history.history['accuracy'], label='training accuracy')\n",
    "plt.plot(history.history['val_accuracy'], label='val accuracy')\n",
    "plt.title('Accuracy')\n",
    "plt.xlabel('epochs')\n",
    "plt.ylabel('accuracy')\n",
    "plt.legend()\n",
    "plt.show()\n",
    "\n",
    "plt.figure(1)\n",
    "plt.plot(history.history['loss'], label='training loss')\n",
    "plt.plot(history.history['val_loss'], label='val loss')\n",
    "plt.title('Loss')\n",
    "plt.xlabel('epochs')\n",
    "plt.ylabel('loss')\n",
    "plt.legend()\n",
    "plt.show()\n",
    "\n"
   ]
  },
  {
   "cell_type": "code",
   "execution_count": 18,
   "id": "aaba0de4",
   "metadata": {},
   "outputs": [
    {
     "name": "stdout",
     "output_type": "stream",
     "text": [
      "0.9423594615993666\n"
     ]
    }
   ],
   "source": [
    "#testing accuracy on test dataset\n",
    "from sklearn.metrics import accuracy_score\n",
    "\n",
    "y_test = pd.read_csv('Test.csv')\n",
    "\n",
    "labels = y_test[\"ClassId\"].values\n",
    "imgs = y_test[\"Path\"].values\n",
    "\n",
    "data=[]\n",
    "\n",
    "for img in imgs:\n",
    "    image = Image.open(img)\n",
    "    image = image.resize((30,30))\n",
    "    data.append(np.array(image))\n",
    "\n",
    "X_test=np.array(data)\n",
    "\n",
    "#pred = model.predict_classes(X_test)\n",
    "pred = np.argmax(model.predict(X_test), axis=-1)\n",
    "\n",
    "from sklearn.metrics import accuracy_score\n",
    "print(accuracy_score(labels, pred))\n",
    "\n",
    "#model.save(‘traffic_classifier.h5’)"
   ]
  },
  {
   "cell_type": "code",
   "execution_count": null,
   "id": "97b10cde",
   "metadata": {},
   "outputs": [],
   "source": []
  }
 ],
 "metadata": {
  "kernelspec": {
   "display_name": "Python 3.9.10 64-bit",
   "language": "python",
   "name": "python3"
  },
  "language_info": {
   "codemirror_mode": {
    "name": "ipython",
    "version": 3
   },
   "file_extension": ".py",
   "mimetype": "text/x-python",
   "name": "python",
   "nbconvert_exporter": "python",
   "pygments_lexer": "ipython3",
   "version": "3.9.10"
  },
  "vscode": {
   "interpreter": {
    "hash": "faccd6973bf53781eb68e615b0b0cd6e633cafd9c6e224548883e732ccb27332"
   }
  }
 },
 "nbformat": 4,
 "nbformat_minor": 5
}
